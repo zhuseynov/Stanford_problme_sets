{
 "cells": [
  {
   "cell_type": "code",
   "execution_count": 2,
   "metadata": {
    "ExecuteTime": {
     "end_time": "2020-07-17T18:01:19.908967Z",
     "start_time": "2020-07-17T18:01:19.324325Z"
    }
   },
   "outputs": [
    {
     "data": {
      "text/plain": [
       "{'divide': 'warn', 'over': 'warn', 'under': 'ignore', 'invalid': 'warn'}"
      ]
     },
     "execution_count": 2,
     "metadata": {},
     "output_type": "execute_result"
    }
   ],
   "source": [
    "import util\n",
    "import numpy as np\n",
    "import matplotlib.pyplot as plt\n",
    "\n",
    "np.seterr(all='raise')"
   ]
  },
  {
   "cell_type": "code",
   "execution_count": 3,
   "metadata": {
    "ExecuteTime": {
     "end_time": "2020-07-17T18:01:20.144881Z",
     "start_time": "2020-07-17T18:01:20.140883Z"
    }
   },
   "outputs": [],
   "source": [
    "factor = 2.0"
   ]
  },
  {
   "cell_type": "code",
   "execution_count": 122,
   "metadata": {
    "ExecuteTime": {
     "end_time": "2020-07-19T16:54:36.946825Z",
     "start_time": "2020-07-19T16:54:36.917844Z"
    }
   },
   "outputs": [],
   "source": [
    "def fit(X, y):\n",
    "    \"\"\"Run solver to fit linear model. You have to update the value of\n",
    "        self.theta using the normal equations.\n",
    "\n",
    "        Args:\n",
    "            X: Training example inputs. Shape (n_examples, dim).\n",
    "            y: Training example labels. Shape (n_examples,).\n",
    "        \"\"\"\n",
    "    # *** START CODE HERE ***\n",
    "    \n",
    "    def hypothesis(theta0, theta1, x):\n",
    "        return theta0 + (theta1*x)\n",
    "    \n",
    "    def cost(theta0, theta1, X, y):\n",
    "        costValue = 0 \n",
    "        for (xi, yi) in zip(X, y):\n",
    "            costValue += 0.5 * ((hypothesis(theta0, theta1, xi) - yi)**2)\n",
    "        return costValue\n",
    "    \n",
    "    def derivatives(theta0, theta1, X, y):\n",
    "        dtheta0 = 0\n",
    "        dtheta1 = 0\n",
    "        for (xi, yi) in zip(X, y):\n",
    "            dtheta0 += hypothesis(theta0, theta1, xi) - yi\n",
    "            dtheta1 += (hypothesis(theta0, theta1, xi) - yi)*xi\n",
    "\n",
    "        dtheta0 /= len(X)\n",
    "        dtheta1 /= len(X)\n",
    "\n",
    "        return dtheta0, dtheta1\n",
    "    \n",
    "    def updateParameters(theta0, theta1, X, y, alpha):\n",
    "        dtheta0, dtheta1 = derivatives(theta0, theta1, X, y)\n",
    "        theta0 = theta0 - (alpha * dtheta0)\n",
    "        theta1 = theta1 - (alpha * dtheta1)\n",
    "\n",
    "        return theta0, theta1\n",
    "    \n",
    "    theta0 = np.random.rand()\n",
    "    theta1 = np.random.rand()\n",
    "    \n",
    "    for i in range(0, 1000):\n",
    "        theta0, theta1 = updateParameters(theta0, theta1, X, y, 0.005)\n",
    "    \n",
    "    return theta0, theta1\n",
    "    # *** END CODE HERE ***"
   ]
  },
  {
   "cell_type": "code",
   "execution_count": 128,
   "metadata": {
    "ExecuteTime": {
     "end_time": "2020-07-19T17:04:20.804029Z",
     "start_time": "2020-07-19T17:04:20.796032Z"
    }
   },
   "outputs": [
    {
     "data": {
      "text/plain": [
       "array([[ 1.        , -1.71359599],\n",
       "       [ 1.        ,  5.77545316]])"
      ]
     },
     "execution_count": 128,
     "metadata": {},
     "output_type": "execute_result"
    }
   ],
   "source": [
    "train_x[:2]"
   ]
  },
  {
   "cell_type": "code",
   "execution_count": 131,
   "metadata": {
    "ExecuteTime": {
     "end_time": "2020-07-19T17:04:43.285311Z",
     "start_time": "2020-07-19T17:04:43.278315Z"
    }
   },
   "outputs": [
    {
     "data": {
      "text/plain": [
       "array([-1.32366975, -0.62183616])"
      ]
     },
     "execution_count": 131,
     "metadata": {},
     "output_type": "execute_result"
    }
   ],
   "source": [
    "train_y[:2]"
   ]
  },
  {
   "cell_type": "code",
   "execution_count": 135,
   "metadata": {
    "ExecuteTime": {
     "end_time": "2020-07-19T17:05:44.072020Z",
     "start_time": "2020-07-19T17:05:44.037041Z"
    }
   },
   "outputs": [
    {
     "ename": "LinAlgError",
     "evalue": "1-dimensional array given. Array must be at least two-dimensional",
     "output_type": "error",
     "traceback": [
      "\u001b[1;31m---------------------------------------------------------------------------\u001b[0m",
      "\u001b[1;31mLinAlgError\u001b[0m                               Traceback (most recent call last)",
      "\u001b[1;32m<ipython-input-135-444ced231885>\u001b[0m in \u001b[0;36m<module>\u001b[1;34m\u001b[0m\n\u001b[1;32m----> 1\u001b[1;33m \u001b[0mnp\u001b[0m\u001b[1;33m.\u001b[0m\u001b[0mlinalg\u001b[0m\u001b[1;33m.\u001b[0m\u001b[0msolve\u001b[0m\u001b[1;33m(\u001b[0m\u001b[0mtrain_x\u001b[0m\u001b[1;33m[\u001b[0m\u001b[1;33m:\u001b[0m\u001b[1;36m1\u001b[0m\u001b[1;33m,\u001b[0m \u001b[1;36m1\u001b[0m\u001b[1;33m]\u001b[0m\u001b[1;33m,\u001b[0m \u001b[0mtrain_y\u001b[0m\u001b[1;33m[\u001b[0m\u001b[1;33m:\u001b[0m\u001b[1;36m1\u001b[0m\u001b[1;33m]\u001b[0m\u001b[1;33m)\u001b[0m\u001b[1;33m\u001b[0m\u001b[0m\n\u001b[0m",
      "\u001b[1;32m<__array_function__ internals>\u001b[0m in \u001b[0;36msolve\u001b[1;34m(*args, **kwargs)\u001b[0m\n",
      "\u001b[1;32mC:\\Anaconda\\envs\\XCS229\\lib\\site-packages\\numpy\\linalg\\linalg.py\u001b[0m in \u001b[0;36msolve\u001b[1;34m(a, b)\u001b[0m\n\u001b[0;32m    383\u001b[0m     \"\"\"\n\u001b[0;32m    384\u001b[0m     \u001b[0ma\u001b[0m\u001b[1;33m,\u001b[0m \u001b[0m_\u001b[0m \u001b[1;33m=\u001b[0m \u001b[0m_makearray\u001b[0m\u001b[1;33m(\u001b[0m\u001b[0ma\u001b[0m\u001b[1;33m)\u001b[0m\u001b[1;33m\u001b[0m\u001b[0m\n\u001b[1;32m--> 385\u001b[1;33m     \u001b[0m_assert_stacked_2d\u001b[0m\u001b[1;33m(\u001b[0m\u001b[0ma\u001b[0m\u001b[1;33m)\u001b[0m\u001b[1;33m\u001b[0m\u001b[0m\n\u001b[0m\u001b[0;32m    386\u001b[0m     \u001b[0m_assert_stacked_square\u001b[0m\u001b[1;33m(\u001b[0m\u001b[0ma\u001b[0m\u001b[1;33m)\u001b[0m\u001b[1;33m\u001b[0m\u001b[0m\n\u001b[0;32m    387\u001b[0m     \u001b[0mb\u001b[0m\u001b[1;33m,\u001b[0m \u001b[0mwrap\u001b[0m \u001b[1;33m=\u001b[0m \u001b[0m_makearray\u001b[0m\u001b[1;33m(\u001b[0m\u001b[0mb\u001b[0m\u001b[1;33m)\u001b[0m\u001b[1;33m\u001b[0m\u001b[0m\n",
      "\u001b[1;32mC:\\Anaconda\\envs\\XCS229\\lib\\site-packages\\numpy\\linalg\\linalg.py\u001b[0m in \u001b[0;36m_assert_stacked_2d\u001b[1;34m(*arrays)\u001b[0m\n\u001b[0;32m    205\u001b[0m         \u001b[1;32mif\u001b[0m \u001b[0ma\u001b[0m\u001b[1;33m.\u001b[0m\u001b[0mndim\u001b[0m \u001b[1;33m<\u001b[0m \u001b[1;36m2\u001b[0m\u001b[1;33m:\u001b[0m\u001b[1;33m\u001b[0m\u001b[0m\n\u001b[0;32m    206\u001b[0m             raise LinAlgError('%d-dimensional array given. Array must be '\n\u001b[1;32m--> 207\u001b[1;33m                     'at least two-dimensional' % a.ndim)\n\u001b[0m\u001b[0;32m    208\u001b[0m \u001b[1;33m\u001b[0m\u001b[0m\n\u001b[0;32m    209\u001b[0m \u001b[1;32mdef\u001b[0m \u001b[0m_assert_stacked_square\u001b[0m\u001b[1;33m(\u001b[0m\u001b[1;33m*\u001b[0m\u001b[0marrays\u001b[0m\u001b[1;33m)\u001b[0m\u001b[1;33m:\u001b[0m\u001b[1;33m\u001b[0m\u001b[0m\n",
      "\u001b[1;31mLinAlgError\u001b[0m: 1-dimensional array given. Array must be at least two-dimensional"
     ]
    }
   ],
   "source": [
    "np.linalg.solve(train_x[:1, 1], train_y[:1])"
   ]
  },
  {
   "cell_type": "code",
   "execution_count": 123,
   "metadata": {
    "ExecuteTime": {
     "end_time": "2020-07-19T16:54:40.410650Z",
     "start_time": "2020-07-19T16:54:40.396658Z"
    }
   },
   "outputs": [],
   "source": [
    "train_x, train_y=util.load_dataset(\"train.csv\",add_intercept=True)"
   ]
  },
  {
   "cell_type": "code",
   "execution_count": 125,
   "metadata": {
    "ExecuteTime": {
     "end_time": "2020-07-19T16:55:09.056836Z",
     "start_time": "2020-07-19T16:55:08.692815Z"
    }
   },
   "outputs": [
    {
     "data": {
      "text/plain": [
       "(0.016905970866725347, -0.07708903491311919)"
      ]
     },
     "execution_count": 125,
     "metadata": {},
     "output_type": "execute_result"
    }
   ],
   "source": [
    "fit(train_x[:,1], train_y)"
   ]
  },
  {
   "cell_type": "code",
   "execution_count": 141,
   "metadata": {
    "ExecuteTime": {
     "end_time": "2020-07-19T17:10:31.379152Z",
     "start_time": "2020-07-19T17:10:31.366160Z"
    }
   },
   "outputs": [],
   "source": [
    "def create_poly(k, X):\n",
    "    \"\"\"\n",
    "    Generates a polynomial feature map using the data x.\n",
    "    The polynomial map should have powers from 0 to k\n",
    "    Output should be a numpy array whose shape is (n_examples, k+1)\n",
    "\n",
    "    Args:\n",
    "        X: Training example inputs. Shape (n_examples, 2).\n",
    "    \"\"\"\n",
    "    # *** START CODE HERE ***\n",
    "    for degree in range(1,k):\n",
    "        l =[num**(degree+1) for num in X[:, 1]]     # create list of values in N degree\n",
    "        npArray = np.array(l , dtype=float)         # convert list of values into np.array\n",
    "        npArray = npArray.reshape((len(X), 1))      # reshape np.array\n",
    "        X = np.append(X, npArray, axis=1)           # append new array with X\n",
    "    return X"
   ]
  },
  {
   "cell_type": "code",
   "execution_count": 42,
   "metadata": {
    "ExecuteTime": {
     "end_time": "2020-07-17T13:40:52.960835Z",
     "start_time": "2020-07-17T13:40:52.950841Z"
    },
    "code_folding": []
   },
   "outputs": [],
   "source": [
    "class LinearModel(object):\n",
    "    \"\"\"Base class for linear models.\"\"\"\n",
    "    def __init__(self, theta=None):\n",
    "        \"\"\"\n",
    "        Args:\n",
    "            theta: Weights vector for the model.\n",
    "        \"\"\"\n",
    "        self.theta = theta\n",
    "\n",
    "    def fit(self, X, y):\n",
    "        \"\"\"Run solver to fit linear model. You have to update the value of\n",
    "        self.theta using the normal equations.\n",
    "\n",
    "        Args:\n",
    "            X: Training example inputs. Shape (n_examples, dim).\n",
    "            y: Training example labels. Shape (n_examples,).\n",
    "        \"\"\"\n",
    "        # *** START CODE HERE ***\n",
    "        def hypothesis(theta0, theta1, x):\n",
    "            return theta0 + (theta1*x)\n",
    "\n",
    "        def cost(theta0, theta1, X, y):\n",
    "            costValue = 0 \n",
    "            for (xi, yi) in zip(X, y):\n",
    "                costValue += 0.5 * ((hypothesis(theta0, theta1, xi) - yi)**2)\n",
    "            return costValue\n",
    "\n",
    "        def derivatives(theta0, theta1, X, y):\n",
    "            dtheta0 = 0\n",
    "            dtheta1 = 0\n",
    "            for (xi, yi) in zip(X, y):\n",
    "                dtheta0 += hypothesis(theta0, theta1, xi) - yi\n",
    "                dtheta1 += (hypothesis(theta0, theta1, xi) - yi)*xi\n",
    "\n",
    "            dtheta0 /= len(X)\n",
    "            dtheta1 /= len(X)\n",
    "\n",
    "            return dtheta0, dtheta1\n",
    "\n",
    "        def updateParameters(theta0, theta1, X, y, alpha):\n",
    "            dtheta0, dtheta1 = derivatives(theta0, theta1, X, y)\n",
    "            theta0 = theta0 - (alpha * dtheta0)\n",
    "            theta1 = theta1 - (alpha * dtheta1)\n",
    "\n",
    "            return theta0, theta1\n",
    "\n",
    "        theta0 = np.random.rand()\n",
    "        theta1 = np.random.rand()\n",
    "\n",
    "        for i in range(0, 1000):\n",
    "            theta0, theta1 = updateParameters(theta0, theta1, X, y, 0.005)\n",
    "\n",
    "        return theta0, theta1\n",
    "        # *** END CODE HERE ***\n",
    "\n",
    "    def create_poly(self, k, X):\n",
    "        \"\"\"\n",
    "        Generates a polynomial feature map using the data x.\n",
    "        The polynomial map should have powers from 0 to k\n",
    "        Output should be a numpy array whose shape is (n_examples, k+1)\n",
    "\n",
    "        Args:\n",
    "            X: Training example inputs. Shape (n_examples, 2).\n",
    "        \"\"\"\n",
    "        # *** START CODE HERE ***\n",
    "        for degree in range(1,k):\n",
    "            l =[num**(degree+1) for num in X[:, 1]]     # create list of values in N degree\n",
    "            npArray = np.array(l , dtype=float)         # convert list of values into np.array\n",
    "            npArray = npArray.reshape((len(X), 1))      # reshape np.array\n",
    "            X = np.append(X, npArray, axis=1)           # append new array with X\n",
    "        return X\n",
    "        # *** END CODE HERE ***\n",
    "\n",
    "    def create_sin(self, k, X):\n",
    "        \"\"\"\n",
    "        Generates a sin with polynomial featuremap to the data x.\n",
    "        Output should be a numpy array whose shape is (n_examples, k+2)\n",
    "\n",
    "        Args:\n",
    "            X: Training example inputs. Shape (n_examples, 2).\n",
    "        \"\"\"\n",
    "        # *** START CODE HERE ***\n",
    "        # *** END CODE HERE ***\n",
    "\n",
    "    def predict(self, X):\n",
    "        \"\"\"\n",
    "        Make a prediction given new inputs x.\n",
    "        Returns the numpy array of the predictions.\n",
    "\n",
    "        Args:\n",
    "            X: Inputs of shape (n_examples, dim).\n",
    "\n",
    "        Returns:\n",
    "            Outputs of shape (n_examples,).\n",
    "        \"\"\"\n",
    "        # *** START CODE HERE ***\n",
    "        # *** END CODE HERE ***"
   ]
  },
  {
   "cell_type": "code",
   "execution_count": 4,
   "metadata": {
    "ExecuteTime": {
     "end_time": "2020-07-17T07:18:17.718826Z",
     "start_time": "2020-07-17T07:18:17.700837Z"
    }
   },
   "outputs": [],
   "source": [
    "def run_exp(train_path, sine=False, ks=[1, 2, 3, 5, 10, 20], filename='plot.png'):\n",
    "    train_x,train_y=util.load_dataset(train_path,add_intercept=True)\n",
    "    plot_x = np.ones([1000, 2])\n",
    "    plot_x[:, 1] = np.linspace(-factor*np.pi, factor*np.pi, 1000)\n",
    "    plt.figure()\n",
    "    plt.scatter(train_x[:, 1], train_y)\n",
    "\n",
    "    for k in ks:\n",
    "        '''\n",
    "        Our objective is to train models and perform predictions on plot_x data\n",
    "        '''\n",
    "        # *** START CODE HERE ***\n",
    "        # *** END CODE HERE ***\n",
    "        '''\n",
    "        Here plot_y are the predictions of the linear model on the plot_x data\n",
    "        '''\n",
    "        plt.ylim(-2, 2)\n",
    "        plt.plot(plot_x[:, 1], plot_y, label='k=%d' % k)\n",
    "\n",
    "    plt.legend()\n",
    "    plt.savefig(filename)\n",
    "    plt.clf()"
   ]
  },
  {
   "cell_type": "code",
   "execution_count": 120,
   "metadata": {
    "ExecuteTime": {
     "end_time": "2020-07-19T16:47:07.411566Z",
     "start_time": "2020-07-19T16:47:07.397575Z"
    }
   },
   "outputs": [],
   "source": [
    "train_x,train_y=util.load_dataset(\"train.csv\",add_intercept=True)"
   ]
  },
  {
   "cell_type": "code",
   "execution_count": 121,
   "metadata": {
    "ExecuteTime": {
     "end_time": "2020-07-19T16:47:11.493806Z",
     "start_time": "2020-07-19T16:47:11.479811Z"
    }
   },
   "outputs": [
    {
     "data": {
      "text/plain": [
       "array([[ 1.        , -1.71359599],\n",
       "       [ 1.        ,  5.77545316],\n",
       "       [ 1.        ,  2.47519421],\n",
       "       [ 1.        ,  3.10985939],\n",
       "       [ 1.        ,  4.5061228 ],\n",
       "       [ 1.        , -4.75998887],\n",
       "       [ 1.        ,  5.39465405],\n",
       "       [ 1.        , -5.52158709],\n",
       "       [ 1.        , -6.28318531],\n",
       "       [ 1.        , -2.72906028],\n",
       "       [ 1.        ,  6.28318531],\n",
       "       [ 1.        , -2.0943951 ],\n",
       "       [ 1.        , -5.64852012],\n",
       "       [ 1.        , -5.39465405],\n",
       "       [ 1.        , -3.99839065],\n",
       "       [ 1.        ,  0.06346652],\n",
       "       [ 1.        , -3.74452458],\n",
       "       [ 1.        ,  6.02931923],\n",
       "       [ 1.        , -1.20586385],\n",
       "       [ 1.        ,  0.31733259],\n",
       "       [ 1.        , -3.87145761],\n",
       "       [ 1.        , -6.15625227],\n",
       "       [ 1.        ,  0.95199777],\n",
       "       [ 1.        , -5.26772102],\n",
       "       [ 1.        ,  0.6981317 ],\n",
       "       [ 1.        , -3.36372547],\n",
       "       [ 1.        ,  1.96746207],\n",
       "       [ 1.        , -1.84052903],\n",
       "       [ 1.        ,  4.88692191],\n",
       "       [ 1.        , -0.6981317 ],\n",
       "       [ 1.        ,  4.37918976],\n",
       "       [ 1.        ,  2.22132814],\n",
       "       [ 1.        ,  0.82506474],\n",
       "       [ 1.        , -2.98292636],\n",
       "       [ 1.        , -2.85599332],\n",
       "       [ 1.        , -2.60212725],\n",
       "       [ 1.        , -4.5061228 ],\n",
       "       [ 1.        , -5.9023862 ],\n",
       "       [ 1.        , -5.14078798],\n",
       "       [ 1.        , -0.95199777],\n",
       "       [ 1.        , -1.45972992],\n",
       "       [ 1.        ,  1.07893081],\n",
       "       [ 1.        , -5.77545316],\n",
       "       [ 1.        ,  1.20586385],\n",
       "       [ 1.        ,  4.25225672],\n",
       "       [ 1.        ,  6.15625227],\n",
       "       [ 1.        ,  2.0943951 ],\n",
       "       [ 1.        ,  3.36372547],\n",
       "       [ 1.        ,  3.74452458],\n",
       "       [ 1.        ,  1.58666296],\n",
       "       [ 1.        , -3.4906585 ],\n",
       "       [ 1.        ,  5.9023862 ],\n",
       "       [ 1.        ,  1.45972992],\n",
       "       [ 1.        , -1.58666296],\n",
       "       [ 1.        , -1.96746207],\n",
       "       [ 1.        ,  5.64852012],\n",
       "       [ 1.        , -0.06346652],\n",
       "       [ 1.        ,  1.71359599],\n",
       "       [ 1.        ,  3.23679243],\n",
       "       [ 1.        ,  3.61759154],\n",
       "       [ 1.        , -1.33279688],\n",
       "       [ 1.        ,  2.85599332],\n",
       "       [ 1.        , -4.25225672],\n",
       "       [ 1.        ,  5.26772102],\n",
       "       [ 1.        , -4.88692191],\n",
       "       [ 1.        , -1.07893081],\n",
       "       [ 1.        ,  1.84052903],\n",
       "       [ 1.        , -4.63305583],\n",
       "       [ 1.        ,  5.01385494],\n",
       "       [ 1.        , -2.47519421]])"
      ]
     },
     "execution_count": 121,
     "metadata": {},
     "output_type": "execute_result"
    }
   ],
   "source": [
    "train_x"
   ]
  },
  {
   "cell_type": "code",
   "execution_count": 5,
   "metadata": {
    "ExecuteTime": {
     "end_time": "2020-07-17T07:18:24.224830Z",
     "start_time": "2020-07-17T07:18:24.218834Z"
    }
   },
   "outputs": [],
   "source": [
    "def main(train_path, small_path, eval_path):\n",
    "    '''\n",
    "    Run all experiments\n",
    "    '''\n",
    "    # *** START CODE HERE ***\n",
    "    # *** END CODE HERE ***"
   ]
  },
  {
   "cell_type": "code",
   "execution_count": 6,
   "metadata": {
    "ExecuteTime": {
     "end_time": "2020-07-17T07:18:31.286492Z",
     "start_time": "2020-07-17T07:18:31.279497Z"
    }
   },
   "outputs": [],
   "source": [
    "if __name__ == '__main__':\n",
    "    main(train_path='train.csv',\n",
    "        small_path='small.csv',\n",
    "        eval_path='test.csv')"
   ]
  },
  {
   "cell_type": "code",
   "execution_count": null,
   "metadata": {},
   "outputs": [],
   "source": []
  }
 ],
 "metadata": {
  "kernelspec": {
   "display_name": "XCS229",
   "language": "python",
   "name": "xcs229"
  },
  "language_info": {
   "codemirror_mode": {
    "name": "ipython",
    "version": 3
   },
   "file_extension": ".py",
   "mimetype": "text/x-python",
   "name": "python",
   "nbconvert_exporter": "python",
   "pygments_lexer": "ipython3",
   "version": "3.6.6"
  },
  "latex_envs": {
   "LaTeX_envs_menu_present": true,
   "autoclose": false,
   "autocomplete": true,
   "bibliofile": "biblio.bib",
   "cite_by": "apalike",
   "current_citInitial": 1,
   "eqLabelWithNumbers": true,
   "eqNumInitial": 1,
   "hotkeys": {
    "equation": "Ctrl-E",
    "itemize": "Ctrl-I"
   },
   "labels_anchors": false,
   "latex_user_defs": false,
   "report_style_numbering": false,
   "user_envs_cfg": false
  },
  "toc": {
   "base_numbering": 1,
   "nav_menu": {},
   "number_sections": true,
   "sideBar": true,
   "skip_h1_title": false,
   "title_cell": "Table of Contents",
   "title_sidebar": "Contents",
   "toc_cell": false,
   "toc_position": {},
   "toc_section_display": true,
   "toc_window_display": false
  }
 },
 "nbformat": 4,
 "nbformat_minor": 4
}
